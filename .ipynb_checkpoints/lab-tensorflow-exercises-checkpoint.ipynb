{
 "cells": [
  {
   "cell_type": "markdown",
   "id": "3a5cebdd-8051-4e1d-83e0-b4acf1449c1c",
   "metadata": {},
   "source": [
    "# Tensorflow exercices"
   ]
  },
  {
   "cell_type": "markdown",
   "id": "9b7ac934-4d62-469e-8385-7cd0f9129f22",
   "metadata": {},
   "source": [
    "Exercise 1: Create a TensorFlow constant tensor with values [1, 2, 3, 4, 5]."
   ]
  },
  {
   "cell_type": "code",
   "execution_count": 3,
   "id": "a0cdcd1b-c781-4428-ac08-24728201dfaa",
   "metadata": {},
   "outputs": [
    {
     "name": "stdout",
     "output_type": "stream",
     "text": [
      "tf.Tensor([1 2 3 4 5], shape=(5,), dtype=int32)\n"
     ]
    }
   ],
   "source": [
    "import tensorflow as tf\n",
    "\n",
    "tensor = tf.constant([1, 2, 3, 4, 5])\n",
    "print(tensor)"
   ]
  },
  {
   "cell_type": "markdown",
   "id": "a6aebc47-b310-4d2e-8ac9-21ce00410cec",
   "metadata": {},
   "source": [
    "Exercise 2: Create a TensorFlow variable tensor initialized with zeros of shape (3, 3)."
   ]
  },
  {
   "cell_type": "code",
   "execution_count": 5,
   "id": "87852e93-0b62-4227-a2fb-a55816c149e2",
   "metadata": {},
   "outputs": [
    {
     "name": "stdout",
     "output_type": "stream",
     "text": [
      "<tf.Variable 'my_tensor:0' shape=(3, 3) dtype=float32, numpy=\n",
      "array([[0., 0., 0.],\n",
      "       [0., 0., 0.],\n",
      "       [0., 0., 0.]], dtype=float32)>\n"
     ]
    }
   ],
   "source": [
    "import tensorflow as tf\n",
    "\n",
    "tensor = tf.Variable(tf.zeros((3, 3)), name=\"my_tensor\")\n",
    "print(tensor)"
   ]
  },
  {
   "cell_type": "markdown",
   "id": "e60991d8-79e7-48c5-8f28-6190f62a0ed3",
   "metadata": {},
   "source": [
    "Exercise 3: Perform matrix multiplication of two TensorFlow constant tensors A and B."
   ]
  },
  {
   "cell_type": "code",
   "execution_count": 7,
   "id": "e9facc25-d26b-4df4-aa99-bcb6073e7477",
   "metadata": {},
   "outputs": [
    {
     "name": "stdout",
     "output_type": "stream",
     "text": [
      "tf.Tensor(\n",
      "[[19 22]\n",
      " [43 50]], shape=(2, 2), dtype=int32)\n"
     ]
    }
   ],
   "source": [
    "import tensorflow as tf\n",
    "\n",
    "A = tf.constant([[1, 2], [3, 4]])\n",
    "B = tf.constant([[5, 6], [7, 8]])\n",
    "C = tf.matmul(A, B)\n",
    "print(C)"
   ]
  },
  {
   "cell_type": "markdown",
   "id": "7fd7d031-c20b-48ee-82a9-227c9ce109ea",
   "metadata": {},
   "source": [
    "Exercise 4: Create a TensorFlow placeholder for a scalar value."
   ]
  },
  {
   "cell_type": "code",
   "execution_count": 9,
   "id": "1a2f6502-ebf2-4c54-bda3-2e9501d49e50",
   "metadata": {},
   "outputs": [
    {
     "name": "stdout",
     "output_type": "stream",
     "text": [
      "<KerasTensor shape=(None,), dtype=float32, sparse=None, name=keras_tensor>\n"
     ]
    }
   ],
   "source": [
    "import tensorflow as tf\n",
    "\n",
    "scalar_input = tf.keras.layers.Input(shape=(), dtype=tf.float32)\n",
    "print(scalar_input)"
   ]
  },
  {
   "cell_type": "markdown",
   "id": "6ccf6ee2-3c4e-4ed1-822d-9843419936bb",
   "metadata": {},
   "source": [
    "Exercise 5: Define a TensorFlow operation to compute the element-wise product of two tensors."
   ]
  },
  {
   "cell_type": "code",
   "execution_count": 11,
   "id": "4cc32588-f533-429b-8a9d-ab91ea12d488",
   "metadata": {},
   "outputs": [
    {
     "name": "stdout",
     "output_type": "stream",
     "text": [
      "tf.Tensor(\n",
      "[[ 5. 12.]\n",
      " [21. 32.]], shape=(2, 2), dtype=float32)\n"
     ]
    }
   ],
   "source": [
    "import tensorflow as tf\n",
    "\n",
    "tensor_a = tf.constant([[1, 2], [3, 4]], dtype=tf.float32)\n",
    "tensor_b = tf.constant([[5, 6], [7, 8]], dtype=tf.float32)\n",
    "product = tf.multiply(tensor_a, tensor_b)\n",
    "print(product)"
   ]
  },
  {
   "cell_type": "markdown",
   "id": "87ca09f9-7976-4d21-b32d-94e25488ad59",
   "metadata": {},
   "source": [
    "Exercise 6: Create a TensorFlow graph to compute the mean of a given tensor along a specified axis."
   ]
  },
  {
   "cell_type": "code",
   "execution_count": 13,
   "id": "6e5331e6-2580-4bdc-b332-42a88393778d",
   "metadata": {},
   "outputs": [
    {
     "name": "stdout",
     "output_type": "stream",
     "text": [
      "Mean along rows: [2.5 3.5 4.5]\n",
      "Mean along columns: [2. 5.]\n"
     ]
    }
   ],
   "source": [
    "import tensorflow as tf\n",
    "\n",
    "tensor = tf.constant([[1, 2, 3], [4, 5, 6]], dtype=tf.float32)\n",
    "mean_along_rows = tf.reduce_mean(tensor, axis=0)\n",
    "mean_along_columns = tf.reduce_mean(tensor, axis=1)\n",
    "\n",
    "print(\"Mean along rows:\", mean_along_rows.numpy())\n",
    "print(\"Mean along columns:\", mean_along_columns.numpy())"
   ]
  },
  {
   "cell_type": "markdown",
   "id": "51602021-3f03-4ab4-bdfc-fbc3dca0e321",
   "metadata": {},
   "source": [
    "Exercise 7: Implement a simple linear regression model using TensorFlow."
   ]
  },
  {
   "cell_type": "code",
   "execution_count": 15,
   "id": "92fc9de7-2012-4229-8522-70aeff6bb176",
   "metadata": {},
   "outputs": [
    {
     "name": "stderr",
     "output_type": "stream",
     "text": [
      "C:\\Users\\kshno\\anaconda3\\Lib\\site-packages\\keras\\src\\layers\\core\\dense.py:87: UserWarning: Do not pass an `input_shape`/`input_dim` argument to a layer. When using Sequential models, prefer using an `Input(shape)` object as the first layer in the model instead.\n",
      "  super().__init__(activity_regularizer=activity_regularizer, **kwargs)\n"
     ]
    },
    {
     "name": "stdout",
     "output_type": "stream",
     "text": [
      "Learned parameters: a = -1.28, b = 0.39\n"
     ]
    }
   ],
   "source": [
    "import tensorflow as tf\n",
    "import numpy as np\n",
    "\n",
    "X = np.random.rand(100, 1) * 10\n",
    "y = 2 * X + 3 + np.random.normal(0, 1, (100, 1))\n",
    "model = tf.keras.Sequential([\n",
    "    tf.keras.layers.Dense(units=1, input_shape=(1,))])\n",
    "\n",
    "model.compile(optimizer='adam', loss='mean_squared_error')\n",
    "model.fit(X, y, epochs=100, verbose=0)\n",
    "a = model.layers[0].weights[0][0][0].numpy()\n",
    "b = model.layers[0].weights[1][0].numpy()\n",
    "\n",
    "print(f\"Learned parameters: a = {a:.2f}, b = {b:.2f}\")"
   ]
  },
  {
   "cell_type": "markdown",
   "id": "3abe932c-332d-48d9-a98d-64d98d3e7127",
   "metadata": {},
   "source": [
    "Exercise 8: Create a TensorFlow dataset from a NumPy array."
   ]
  },
  {
   "cell_type": "code",
   "execution_count": 17,
   "id": "2b60aa72-4b42-494f-835c-aadbfc68407c",
   "metadata": {},
   "outputs": [
    {
     "name": "stdout",
     "output_type": "stream",
     "text": [
      "Features: [0.67036033 0.11465058], Label: [1]\n",
      "Features: [0.21017816 0.88606889], Label: [1]\n",
      "Features: [0.03718971 0.40065842], Label: [1]\n",
      "Features: [0.94184543 0.39138106], Label: [1]\n",
      "Features: [0.09884952 0.43073405], Label: [0]\n",
      "Features: [0.68791497 0.37694159], Label: [0]\n",
      "Features: [0.32112934 0.09237388], Label: [0]\n",
      "Features: [0.13121665 0.13488736], Label: [0]\n",
      "Features: [0.07037256 0.40859161], Label: [1]\n",
      "Features: [0.54408674 0.4659917 ], Label: [1]\n",
      "Features: [0.05848395 0.81860026], Label: [1]\n",
      "Features: [0.43503519 0.96068147], Label: [1]\n",
      "Features: [0.68922548 0.8984489 ], Label: [1]\n",
      "Features: [0.25403357 0.83683913], Label: [1]\n",
      "Features: [0.60559765 0.39005739], Label: [1]\n",
      "Features: [0.4470426  0.45817472], Label: [0]\n",
      "Features: [0.85791527 0.84166897], Label: [0]\n",
      "Features: [0.32056849 0.4668473 ], Label: [1]\n",
      "Features: [0.86622855 0.3665083 ], Label: [1]\n",
      "Features: [0.68413598 0.37832494], Label: [1]\n",
      "Features: [0.11468648 0.18241685], Label: [0]\n",
      "Features: [0.22344423 0.07450837], Label: [0]\n",
      "Features: [0.40393436 0.16462862], Label: [0]\n",
      "Features: [0.83648539 0.5953101 ], Label: [1]\n",
      "Features: [0.51866968 0.06585327], Label: [0]\n",
      "Features: [0.84698647 0.9465959 ], Label: [1]\n",
      "Features: [0.7057472  0.31002497], Label: [1]\n",
      "Features: [0.33896067 0.41994109], Label: [0]\n",
      "Features: [0.47976399 0.43996468], Label: [0]\n",
      "Features: [0.42502256 0.66693025], Label: [1]\n",
      "Features: [0.72039806 0.01075042], Label: [0]\n",
      "Features: [0.17340571 0.79117211], Label: [0]\n",
      "Features: [0.80378907 0.42035409], Label: [1]\n",
      "Features: [0.90595815 0.68497936], Label: [0]\n",
      "Features: [0.21302279 0.41816755], Label: [0]\n",
      "Features: [0.20865948 0.14390227], Label: [1]\n",
      "Features: [0.98586664 0.48243703], Label: [0]\n",
      "Features: [0.96133615 0.88525892], Label: [1]\n",
      "Features: [0.90612947 0.64177948], Label: [1]\n",
      "Features: [0.50761241 0.78425849], Label: [1]\n",
      "Features: [0.01314618 0.4648978 ], Label: [1]\n",
      "Features: [0.26723583 0.94678167], Label: [0]\n",
      "Features: [0.481694  0.6592284], Label: [0]\n",
      "Features: [0.17303896 0.07798808], Label: [1]\n",
      "Features: [0.31457986 0.11193686], Label: [0]\n",
      "Features: [0.51631039 0.61235479], Label: [1]\n",
      "Features: [0.20496293 0.37049001], Label: [1]\n",
      "Features: [0.30335742 0.50681967], Label: [1]\n",
      "Features: [0.4312248  0.28666959], Label: [0]\n",
      "Features: [0.0040748  0.07982463], Label: [0]\n",
      "Features: [0.80233581 0.26929023], Label: [0]\n",
      "Features: [0.8689623  0.83492054], Label: [0]\n",
      "Features: [0.30072134 0.5961808 ], Label: [1]\n",
      "Features: [0.6946673  0.55907117], Label: [0]\n",
      "Features: [0.52359217 0.89872055], Label: [0]\n",
      "Features: [0.13086679 0.92463029], Label: [1]\n",
      "Features: [0.62059161 0.86348647], Label: [0]\n",
      "Features: [0.9395337  0.57555196], Label: [1]\n",
      "Features: [0.20333715 0.91993562], Label: [1]\n",
      "Features: [0.86523549 0.39096604], Label: [0]\n",
      "Features: [0.68827255 0.13465424], Label: [1]\n",
      "Features: [0.10534811 0.32962803], Label: [0]\n",
      "Features: [0.91600324 0.76535628], Label: [1]\n",
      "Features: [0.26634221 0.52938733], Label: [1]\n",
      "Features: [0.26361444 0.09882363], Label: [0]\n",
      "Features: [0.71978939 0.30297276], Label: [0]\n",
      "Features: [0.99503397 0.81898168], Label: [1]\n",
      "Features: [0.90345949 0.56660084], Label: [1]\n",
      "Features: [0.02572866 0.38130283], Label: [0]\n",
      "Features: [0.6266375  0.72017115], Label: [1]\n",
      "Features: [0.87955488 0.82331874], Label: [1]\n",
      "Features: [0.10622969 0.56889874], Label: [1]\n",
      "Features: [0.21248281 0.85761478], Label: [0]\n",
      "Features: [0.01136936 0.284726  ], Label: [1]\n",
      "Features: [0.06102232 0.22658818], Label: [0]\n",
      "Features: [0.78900119 0.87551978], Label: [1]\n",
      "Features: [0.91563651 0.14404335], Label: [0]\n",
      "Features: [0.59938284 0.90962109], Label: [0]\n",
      "Features: [0.43618308 0.29548338], Label: [0]\n",
      "Features: [0.29903838 0.26105369], Label: [0]\n",
      "Features: [0.41960234 0.47025724], Label: [0]\n",
      "Features: [0.91813959 0.24054766], Label: [1]\n",
      "Features: [0.05305791 0.66314173], Label: [1]\n",
      "Features: [0.48650739 0.25002904], Label: [1]\n",
      "Features: [0.21324119 0.79346029], Label: [0]\n",
      "Features: [0.53709655 0.28854224], Label: [1]\n",
      "Features: [0.70703085 0.87331851], Label: [0]\n",
      "Features: [0.25839833 0.54010208], Label: [0]\n",
      "Features: [0.24248272 0.06069254], Label: [0]\n",
      "Features: [0.26262888 0.13898079], Label: [0]\n",
      "Features: [0.44565316 0.45981062], Label: [0]\n",
      "Features: [0.13872642 0.3399037 ], Label: [0]\n",
      "Features: [0.59283535 0.97971673], Label: [1]\n",
      "Features: [0.65755641 0.76918595], Label: [0]\n",
      "Features: [0.84132399 0.27343498], Label: [0]\n",
      "Features: [0.72259059 0.55250153], Label: [1]\n",
      "Features: [0.12047966 0.11857638], Label: [1]\n",
      "Features: [0.61643185 0.17171379], Label: [0]\n",
      "Features: [0.89247848 0.70607956], Label: [1]\n",
      "Features: [0.7712628  0.41545824], Label: [0]\n"
     ]
    }
   ],
   "source": [
    "import tensorflow as tf\n",
    "import numpy as np\n",
    "\n",
    "X = np.random.rand(100, 2)\n",
    "y = np.random.randint(0, 2, size=(100, 1))\n",
    "dataset = tf.data.Dataset.from_tensor_slices((X, y))\n",
    "for features, label in dataset:\n",
    "    print(f\"Features: {features.numpy()}, Label: {label.numpy()}\")"
   ]
  },
  {
   "cell_type": "markdown",
   "id": "546d0040-6c83-430d-af7f-afadd22e03c2",
   "metadata": {},
   "source": [
    "Exercise 9: Define a custom TensorFlow function using tf.function decorator."
   ]
  },
  {
   "cell_type": "code",
   "execution_count": 19,
   "id": "63fe0442-3825-486d-b1e0-131baa4cd5fe",
   "metadata": {},
   "outputs": [
    {
     "name": "stdout",
     "output_type": "stream",
     "text": [
      "tf.Tensor(49, shape=(), dtype=int32)\n"
     ]
    }
   ],
   "source": [
    "import tensorflow as tf\n",
    "\n",
    "@tf.function\n",
    "def add_and_square(a, b):\n",
    "    c = a + b\n",
    "    d = c ** 2\n",
    "    return d\n",
    "\n",
    "result = add_and_square(tf.constant(3), tf.constant(4))\n",
    "print(result)"
   ]
  },
  {
   "cell_type": "markdown",
   "id": "c9b39e03-dfea-42af-8821-fb950df430b1",
   "metadata": {},
   "source": [
    "Exercise 10: Load and preprocess an image using TensorFlow."
   ]
  },
  {
   "cell_type": "code",
   "execution_count": 32,
   "id": "29db8b8b-4be6-40ec-a4a8-284e2b28cce1",
   "metadata": {},
   "outputs": [
    {
     "name": "stdout",
     "output_type": "stream",
     "text": [
      "Preprocessed image shape: (1, 224, 224, 3)\n"
     ]
    }
   ],
   "source": [
    "import tensorflow as tf\n",
    "from tensorflow.keras.preprocessing.image import load_img, img_to_array\n",
    "\n",
    "# Load the image\n",
    "image_path = '123.png'\n",
    "image = load_img(image_path, target_size=(224, 224))\n",
    "\n",
    "image_array = img_to_array(image)\n",
    "\n",
    "image_tensor = tf.convert_to_tensor(image_array)\n",
    "image_tensor = tf.expand_dims(image_tensor, 0)\n",
    "image_tensor = image_tensor / 255.0\n",
    "\n",
    "print(f\"Preprocessed image shape: {image_tensor.shape}\")"
   ]
  },
  {
   "cell_type": "markdown",
   "id": "4a60fc5d-b32b-45df-8dca-696de227947f",
   "metadata": {},
   "source": [
    "Exercise 11: Neural Network\n",
    "Build and train a neural network with one hidden layer on the MNIST dataset."
   ]
  },
  {
   "cell_type": "code",
   "execution_count": 40,
   "id": "fa4818c6-449d-4f26-8b81-fcc67789a5c2",
   "metadata": {},
   "outputs": [
    {
     "name": "stdout",
     "output_type": "stream",
     "text": [
      "Epoch 1/10\n",
      "\u001b[1m1875/1875\u001b[0m \u001b[32m━━━━━━━━━━━━━━━━━━━━\u001b[0m\u001b[37m\u001b[0m \u001b[1m4s\u001b[0m 2ms/step - accuracy: 0.8766 - loss: 0.4358 - val_accuracy: 0.9569 - val_loss: 0.1355\n",
      "Epoch 2/10\n",
      "\u001b[1m1875/1875\u001b[0m \u001b[32m━━━━━━━━━━━━━━━━━━━━\u001b[0m\u001b[37m\u001b[0m \u001b[1m3s\u001b[0m 2ms/step - accuracy: 0.9644 - loss: 0.1194 - val_accuracy: 0.9719 - val_loss: 0.0983\n",
      "Epoch 3/10\n",
      "\u001b[1m1875/1875\u001b[0m \u001b[32m━━━━━━━━━━━━━━━━━━━━\u001b[0m\u001b[37m\u001b[0m \u001b[1m4s\u001b[0m 2ms/step - accuracy: 0.9770 - loss: 0.0776 - val_accuracy: 0.9725 - val_loss: 0.0900\n",
      "Epoch 4/10\n",
      "\u001b[1m1875/1875\u001b[0m \u001b[32m━━━━━━━━━━━━━━━━━━━━\u001b[0m\u001b[37m\u001b[0m \u001b[1m4s\u001b[0m 2ms/step - accuracy: 0.9824 - loss: 0.0575 - val_accuracy: 0.9759 - val_loss: 0.0764\n",
      "Epoch 5/10\n",
      "\u001b[1m1875/1875\u001b[0m \u001b[32m━━━━━━━━━━━━━━━━━━━━\u001b[0m\u001b[37m\u001b[0m \u001b[1m4s\u001b[0m 2ms/step - accuracy: 0.9856 - loss: 0.0442 - val_accuracy: 0.9774 - val_loss: 0.0740\n",
      "Epoch 6/10\n",
      "\u001b[1m1875/1875\u001b[0m \u001b[32m━━━━━━━━━━━━━━━━━━━━\u001b[0m\u001b[37m\u001b[0m \u001b[1m4s\u001b[0m 2ms/step - accuracy: 0.9897 - loss: 0.0330 - val_accuracy: 0.9775 - val_loss: 0.0741\n",
      "Epoch 7/10\n",
      "\u001b[1m1875/1875\u001b[0m \u001b[32m━━━━━━━━━━━━━━━━━━━━\u001b[0m\u001b[37m\u001b[0m \u001b[1m4s\u001b[0m 2ms/step - accuracy: 0.9925 - loss: 0.0255 - val_accuracy: 0.9787 - val_loss: 0.0693\n",
      "Epoch 8/10\n",
      "\u001b[1m1875/1875\u001b[0m \u001b[32m━━━━━━━━━━━━━━━━━━━━\u001b[0m\u001b[37m\u001b[0m \u001b[1m4s\u001b[0m 2ms/step - accuracy: 0.9936 - loss: 0.0220 - val_accuracy: 0.9783 - val_loss: 0.0753\n",
      "Epoch 9/10\n",
      "\u001b[1m1875/1875\u001b[0m \u001b[32m━━━━━━━━━━━━━━━━━━━━\u001b[0m\u001b[37m\u001b[0m \u001b[1m4s\u001b[0m 2ms/step - accuracy: 0.9947 - loss: 0.0176 - val_accuracy: 0.9751 - val_loss: 0.0905\n",
      "Epoch 10/10\n",
      "\u001b[1m1875/1875\u001b[0m \u001b[32m━━━━━━━━━━━━━━━━━━━━\u001b[0m\u001b[37m\u001b[0m \u001b[1m4s\u001b[0m 2ms/step - accuracy: 0.9953 - loss: 0.0148 - val_accuracy: 0.9785 - val_loss: 0.0771\n",
      "\u001b[1m313/313\u001b[0m \u001b[32m━━━━━━━━━━━━━━━━━━━━\u001b[0m\u001b[37m\u001b[0m \u001b[1m0s\u001b[0m 1ms/step - accuracy: 0.9757 - loss: 0.0906\n",
      "Test Loss: 0.07714082300662994\n",
      "Test Accuracy: 0.9785000085830688\n"
     ]
    }
   ],
   "source": [
    "import tensorflow as tf\n",
    "from tensorflow.keras.datasets import mnist\n",
    "from tensorflow.keras.models import Sequential\n",
    "from tensorflow.keras.layers import Dense, Flatten\n",
    "from tensorflow.keras.optimizers import Adam\n",
    "\n",
    "(X_train, y_train), (X_test, y_test) = mnist.load_data()\n",
    "\n",
    "X_train = X_train / 255.0\n",
    "X_test = X_test / 255.0\n",
    "\n",
    "model = Sequential([\n",
    "    Flatten(input_shape=(28, 28)),\n",
    "    Dense(128, activation='relu'),\n",
    "    Dense(10, activation='softmax')])\n",
    "\n",
    "optimizer = Adam(learning_rate=0.001)\n",
    "model.compile(optimizer=optimizer, loss='categorical_crossentropy', metrics=['accuracy'])\n",
    "\n",
    "model.fit(X_train, tf.keras.utils.to_categorical(y_train), epochs=10, batch_size=32, validation_data=(X_test, tf.keras.utils.to_categorical(y_test)))\n",
    "\n",
    "loss, accuracy = model.evaluate(X_test, tf.keras.utils.to_categorical(y_test))\n",
    "print(\"Test Loss:\", loss)\n",
    "print(\"Test Accuracy:\", accuracy)\n"
   ]
  },
  {
   "cell_type": "code",
   "execution_count": null,
   "id": "a3ea9668-32e4-4a60-b973-386ab8d03f9a",
   "metadata": {},
   "outputs": [],
   "source": []
  }
 ],
 "metadata": {
  "kernelspec": {
   "display_name": "Python 3 (ipykernel)",
   "language": "python",
   "name": "python3"
  },
  "language_info": {
   "codemirror_mode": {
    "name": "ipython",
    "version": 3
   },
   "file_extension": ".py",
   "mimetype": "text/x-python",
   "name": "python",
   "nbconvert_exporter": "python",
   "pygments_lexer": "ipython3",
   "version": "3.11.7"
  }
 },
 "nbformat": 4,
 "nbformat_minor": 5
}
